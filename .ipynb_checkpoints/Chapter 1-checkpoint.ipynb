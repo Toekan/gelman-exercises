{
 "cells": [
  {
   "cell_type": "code",
   "execution_count": 1,
   "metadata": {
    "collapsed": false
   },
   "outputs": [
    {
     "name": "stdout",
     "output_type": "stream",
     "text": [
      "Populating the interactive namespace from numpy and matplotlib\n"
     ]
    }
   ],
   "source": [
    "import sklearn\n",
    "import matplotlib.pyplot as plt\n",
    "import math\n",
    "import numpy as np\n",
    "import scipy.stats as ss\n",
    "%reload_ext autoreload\n",
    "%autoreload 2\n",
    "%pylab inline"
   ]
  },
  {
   "cell_type": "markdown",
   "metadata": {},
   "source": [
    "<h4> Exercise 9 </h4>"
   ]
  },
  {
   "cell_type": "code",
   "execution_count": 2,
   "metadata": {
    "collapsed": false
   },
   "outputs": [],
   "source": [
    "def clinic_day():\n",
    "    \"\"\"Simulates one day in the clinic and returns:\n",
    "                Number of patients\n",
    "                Number of patients that had to wait\n",
    "                The average wait of the waiters\n",
    "                The closing hour in minutes after 9 am\"\"\"\n",
    "    \n",
    "    total_time = 0\n",
    "    arrivals_time = []\n",
    "    waiting_time = []\n",
    "\n",
    "    while total_time < 420:\n",
    "        a = ss.expon.rvs(0,10,size=1)\n",
    "        total_time += a[0]\n",
    "        arrivals_time.append(total_time)\n",
    "    arrivals_time = arrivals_time[:-1]  \n",
    "    total_patients = len(arrivals_time)\n",
    "    \n",
    "    \n",
    "    doctors = [0,0,0]  \n",
    "    while arrivals_time:\n",
    "        doctor_available = doctors.pop(np.argmin(doctors))\n",
    "        patient_available = arrivals_time.pop(0)\n",
    "        start_session = max(doctor_available,patient_available)\n",
    "        waiting_time.append(max(0,doctor_available-patient_available))\n",
    "        doctors.append(ss.uniform.rvs(start_session+5,15))\n",
    "\n",
    "    waiting_time = np.array(waiting_time)\n",
    "\n",
    "    total_waiters = waiting_time[np.array(waiting_time) > 0].size\n",
    "    if total_waiters > 0:\n",
    "        average_wait = waiting_time[np.array(waiting_time) > 0].mean()   \n",
    "    else:\n",
    "        average_wait = 0\n",
    "        \n",
    "    closing_hour = max(420,max(doctors))\n",
    "    \n",
    "    return [total_patients, total_waiters, average_wait, closing_hour]"
   ]
  },
  {
   "cell_type": "code",
   "execution_count": 19,
   "metadata": {
    "collapsed": true
   },
   "outputs": [],
   "source": [
    "def fifty_percent_interval(list_values):\n",
    "    list_values = np.sort(list_values)\n",
    "    return list_values[int(len(list_values)/4)], list_values[int(3*len(list_values)/4)]"
   ]
  },
  {
   "cell_type": "code",
   "execution_count": 3,
   "metadata": {
    "collapsed": false
   },
   "outputs": [
    {
     "data": {
      "text/plain": [
       "array([  41.        ,    5.        ,    3.46977422,  426.49419652])"
      ]
     },
     "execution_count": 3,
     "metadata": {},
     "output_type": "execute_result"
    }
   ],
   "source": [
    "results = []\n",
    "for i in range(100):\n",
    "    results.append(clinic_day())\n",
    "    \n",
    "results = np.array(results)\n",
    "np.median(results,axis=0)"
   ]
  },
  {
   "cell_type": "code",
   "execution_count": 26,
   "metadata": {
    "collapsed": false
   },
   "outputs": [
    {
     "name": "stdout",
     "output_type": "stream",
     "text": [
      "(37.0, 46.0)\n",
      "(3.0, 9.0)\n",
      "(2.4099263360999941, 5.1056778393423334)\n",
      "(420.0, 431.30658638345511)\n"
     ]
    }
   ],
   "source": [
    "for i in range(4):\n",
    "    print(fifty_percent_interval(results[:,i]))"
   ]
  },
  {
   "cell_type": "code",
   "execution_count": null,
   "metadata": {
    "collapsed": true
   },
   "outputs": [],
   "source": []
  }
 ],
 "metadata": {
  "anaconda-cloud": {},
  "kernelspec": {
   "display_name": "Python [Root]",
   "language": "python",
   "name": "Python [Root]"
  },
  "language_info": {
   "codemirror_mode": {
    "name": "ipython",
    "version": 3
   },
   "file_extension": ".py",
   "mimetype": "text/x-python",
   "name": "python",
   "nbconvert_exporter": "python",
   "pygments_lexer": "ipython3",
   "version": "3.5.2"
  }
 },
 "nbformat": 4,
 "nbformat_minor": 0
}
